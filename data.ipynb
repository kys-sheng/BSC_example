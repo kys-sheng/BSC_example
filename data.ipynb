{
 "cells": [
  {
   "cell_type": "code",
   "execution_count": null,
   "metadata": {},
   "outputs": [],
   "source": [
    "import numpy as np\n",
    "import matplotlib.pyplot as plt\n",
    "import pandas as pd"
   ]
  },
  {
   "cell_type": "code",
   "execution_count": null,
   "metadata": {},
   "outputs": [],
   "source": [
    "%matplotlib inline"
   ]
  },
  {
   "cell_type": "code",
   "execution_count": null,
   "metadata": {},
   "outputs": [],
   "source": [
    "import monox as mx"
   ]
  },
  {
   "cell_type": "code",
   "execution_count": null,
   "metadata": {},
   "outputs": [],
   "source": [
    "train_data_fsr              =  mx.load_pkl_from_targz(\"./data/train_data_fsr.tar.gz\",\"train_data_fsr.pkl\")\n",
    "test_data_fsr               =  mx.load_pkl_from_targz(\"./data/test_data_fsr.tar.gz\",\"test_data_fsr.pkl\")\n",
    "\n",
    "# train_data_fsr_log          =  mx.load_pkl_from_targz(\"./data/train_data_fsr_log.tar.gz\",\"train_data_fsr_log.pkl\") # same thing but in log scale\n",
    "# test_data_fsr_log           =  mx.load_pkl_from_targz(\"./data/test_data_fsr_log.tar.gz\",\"test_data_fsr_log.pkl\")   # same thing but in log scale \n",
    "\n",
    "# train_data_fsr_cleaned      =  mx.load_pkl_from_targz(\"./cleaned_data/train_data_fsr.tar.gz\",\"train_data_fsr.pkl\")         # same thing but i keep only data with bout 70% bins filled\n",
    "# train_data_fsr_log_cleaned  =  mx.load_pkl_from_targz(\"./cleaned_data/train_data_fsr_log.tar.gz\",\"train_data_fsr_log.pkl\") # same thing but i keep only data with bout 70% bins filled, log scale"
   ]
  },
  {
   "cell_type": "markdown",
   "metadata": {},
   "source": [
    "# Visualize Dataset"
   ]
  },
  {
   "cell_type": "markdown",
   "metadata": {},
   "source": [
    "A. Data / Input (What you expect to see in experiment) : \n",
    "- MET : missing transverse energy\n",
    "- PT(j[1]) : transverse momentum of leading jet\n",
    "- ETA(j[1]) : pseudorapidity of leading jet\n",
    "\n",
    "B. Output (What you are trying to infer) : \n",
    "- MASS : Mass of Dark Matter\n",
    "- COUP : Coupling Between Dark Matter and the Mediator\n",
    "\n",
    "C. Auxiliary Inputs (Not used in your project, and they should be same/similar for every row in this dataset)<br> \n",
    "Cuts: \n",
    "- MET_CUT : Minimum Missing Transverse Energy\n",
    "- PT(j[1])_CUT : Minimum transverse momentum of leading jet\n",
    "- ETA(j[1])_CUT : Maximum Absolute pseudorapidity of leading jet<br>\n",
    "\n",
    "Range: \n",
    "- PT(j[1])_LOW : lower limit of PT histograms    \n",
    "- PT(j[1])_UP : upper limit of PT histograms \n",
    "- MET_LOW : lower limit of MET histograms    \n",
    "- MET_UP : upper limit of MET histograms \n",
    "- ETA(j[1])_LOW : lower limit of ETA histograms (without the negative)   \n",
    "- ETA(j[1])_UP : upper limit of ETA histograms <br>\n",
    "\n",
    "Number of Events: \n",
    "- PT(j[1])_NEVENTS : total number of events in the PT histogram\n",
    "- MET_NEVENTS : total number of events in the MET histogram\n",
    "- ETA(j[1])_NEVENTS : total number of events in the ETA histogram\n",
    "\n"
   ]
  },
  {
   "cell_type": "code",
   "execution_count": null,
   "metadata": {},
   "outputs": [],
   "source": [
    "display(train_data_fsr)\n"
   ]
  },
  {
   "cell_type": "markdown",
   "metadata": {},
   "source": [
    "## Mass and coupling possibilities in the dataset"
   ]
  },
  {
   "cell_type": "code",
   "execution_count": null,
   "metadata": {},
   "outputs": [],
   "source": [
    "mx.plot_distribution(train_data_fsr)"
   ]
  },
  {
   "cell_type": "code",
   "execution_count": null,
   "metadata": {},
   "outputs": [],
   "source": [
    "mx.plot_distribution(test_data_fsr)"
   ]
  },
  {
   "cell_type": "markdown",
   "metadata": {},
   "source": [
    "Remark: \n",
    "- Its expensive to simulate many events for each mass-coupling parameter space point. \n",
    "- So I use data augmentation to get more histogram from each data point. (You can sample from the same amount of events to build different histogram)  \n",
    "- Datasize means how many histogram you have with that mass-coupling parameter space point"
   ]
  },
  {
   "cell_type": "markdown",
   "metadata": {},
   "source": [
    "## Number of Signal events "
   ]
  },
  {
   "cell_type": "code",
   "execution_count": null,
   "metadata": {},
   "outputs": [],
   "source": [
    "xsecpd = pd.read_csv(\"./xsec.csv\")\n",
    "xsecpd[\"nevents\"] = xsecpd[\"xsec(pb)\"]*139*1000\n",
    "display(xsecpd)\n"
   ]
  },
  {
   "cell_type": "code",
   "execution_count": null,
   "metadata": {},
   "outputs": [],
   "source": [
    "plt.scatter(xsecpd[\"mass\"], xsecpd[\"coup\"],c=np.log10(xsecpd[\"nevents\"]),)\n",
    "plt.xlabel(\"mass\")\n",
    "plt.ylabel(\"coupling\")\n",
    "plt.colorbar(label=\"log10(number of SIGNAL events)\")\n",
    "plt.show()"
   ]
  },
  {
   "cell_type": "markdown",
   "metadata": {},
   "source": [
    "Remarks : The number events gets lower with lower couplings and higher mass"
   ]
  },
  {
   "cell_type": "markdown",
   "metadata": {},
   "source": [
    "# Example histograms"
   ]
  },
  {
   "cell_type": "code",
   "execution_count": null,
   "metadata": {},
   "outputs": [],
   "source": [
    "PT_LOW   = (train_data_fsr[\"PT(j[1])_LOW\"].unique())[0]\n",
    "PT_UP    = (train_data_fsr[\"PT(j[1])_UP\"].unique())[0]\n",
    "MET_LOW  = (train_data_fsr[\"MET_LOW\"].unique())[0]\n",
    "MET_UP   = (train_data_fsr[\"MET_UP\"].unique())[0]\n",
    "ETA_LOW  = (train_data_fsr[\"ETA(j[1])_LOW\"].unique())[0]\n",
    "ETA_UP   = (train_data_fsr[\"ETA(j[1])_UP\"].unique())[0]\n"
   ]
  },
  {
   "cell_type": "code",
   "execution_count": null,
   "metadata": {},
   "outputs": [],
   "source": [
    "# Randomly sample a data point\n",
    "dat = train_data_fsr.sample(1)\n",
    "\n",
    "# Create figure and subplots\n",
    "fig, axes = plt.subplots(1, 3, figsize=(18, 5))\n",
    "\n",
    "# PT plot\n",
    "bin_edges = np.linspace(PT_LOW, PT_UP, 31)\n",
    "bin_centers = np.diff(bin_edges) / 2 + bin_edges[:-1]\n",
    "axes[0].bar(bin_centers, dat[\"PT(j[1])\"].values[0], width=np.diff(bin_edges), \n",
    "            label=f\"Mass={dat['MASS'].values[0]} GeV, Coup= {dat['COUP'].values[0]}\")\n",
    "axes[0].hlines(1, PT_LOW, PT_UP, color=\"r\")\n",
    "axes[0].set_yscale(\"log\")\n",
    "axes[0].set_ylim(0.9, 10 * max(dat[\"PT(j[1])\"].values[0]))\n",
    "axes[0].set_xlabel(\"PT\")\n",
    "axes[0].set_ylabel(\"Number of Events\")\n",
    "#axes[0].legend()\n",
    "\n",
    "# MET plot\n",
    "bin_edges = np.linspace(MET_LOW, MET_UP, 31)\n",
    "bin_centers = np.diff(bin_edges) / 2 + bin_edges[:-1]\n",
    "axes[1].bar(bin_centers, dat[\"MET\"].values[0], width=np.diff(bin_edges), \n",
    "            label=f\"Mass={dat['MASS'].values[0]} GeV, Coup= {dat['COUP'].values[0]}\")\n",
    "axes[1].hlines(1, MET_LOW, MET_UP, color=\"r\")\n",
    "axes[1].set_yscale(\"log\")\n",
    "axes[1].set_ylim(0.9, 10 * max(dat[\"MET\"].values[0]))\n",
    "axes[1].set_xlabel(\"MET\")\n",
    "axes[1].set_ylabel(\"Number of Events\")\n",
    "#axes[1].legend()\n",
    "\n",
    "# ETA plot\n",
    "bin_edges = np.linspace(-ETA_LOW, ETA_UP, 31)\n",
    "bin_centers = np.diff(bin_edges) / 2 + bin_edges[:-1]\n",
    "axes[2].bar(bin_centers, dat[\"ETA(j[1])\"].values[0], width=np.diff(bin_edges), \n",
    "            label=f\"Mass={dat['MASS'].values[0]} GeV, Coup= {dat['COUP'].values[0]}\")\n",
    "axes[2].hlines(1, -ETA_LOW, ETA_UP, color=\"r\")\n",
    "axes[2].set_yscale(\"log\")\n",
    "axes[2].set_ylim(0.9, 10 * max(dat[\"ETA(j[1])\"].values[0]))\n",
    "axes[2].set_xlabel(\"ETA\")\n",
    "axes[2].set_ylabel(\"Number of Events\")\n",
    "#axes[2].legend()\n",
    "plt.suptitle(f\"Mass={dat['MASS'].values[0]} GeV, Coup= {dat['COUP'].values[0]}\")\n",
    "# Adjust layout\n",
    "plt.tight_layout()\n",
    "plt.show()"
   ]
  },
  {
   "cell_type": "markdown",
   "metadata": {},
   "source": [
    "Remarks : \n",
    "- Note that PT and MET looks very similar (Because of conservation of momentum)\n",
    "- Simulated data gets more noisy as it goes to higher value of MET or PT. \n",
    "- Probablility of generating such events gets lower \n",
    "- Similar to the probability of finding them in experiments\n",
    "- Also, It becomes more computationally difficult to simulate\n"
   ]
  },
  {
   "cell_type": "markdown",
   "metadata": {},
   "source": [
    "### Compare different data points"
   ]
  },
  {
   "cell_type": "code",
   "execution_count": null,
   "metadata": {},
   "outputs": [],
   "source": [
    "xdat = train_data_fsr.sample(50)\n",
    "bin_edges = np.linspace(PT_LOW, PT_UP,31)\n",
    "bin_centers = np.diff(bin_edges) / 2 + bin_edges[:-1]\n",
    "for _, dat in xdat.iterrows():\n",
    "    plt.bar(bin_centers, dat[\"PT(j[1])\"],width=np.diff(bin_edges),label=f\"Mass={dat['MASS']} GeV, Coup= { dat['COUP']}\",alpha=0.25)\n",
    "plt.hlines(1, PT_LOW, PT_UP,color=\"r\")\n",
    "plt.yscale(\"log\")\n",
    "plt.ylim(0.9,10*max(dat[\"PT(j[1])\"]))\n",
    "plt.xlabel(\"PT\")\n",
    "plt.ylabel(\"Number of Events\")\n",
    "plt.show()\n",
    "\n",
    "bin_edges = np.linspace(MET_LOW, MET_UP,31)\n",
    "bin_centers = np.diff(bin_edges) / 2 + bin_edges[:-1]\n",
    "for _, dat in xdat.iterrows():\n",
    "     plt.bar(bin_centers, dat[\"MET\"],width=np.diff(bin_edges),label=f\"Mass={dat['MASS']} GeV, Coup= { dat['COUP']}\",alpha=0.25)\n",
    "plt.hlines(1, PT_LOW, PT_UP,color=\"r\")\n",
    "plt.yscale(\"log\")\n",
    "plt.ylim(0.9,10*max(dat[\"MET\"]))\n",
    "plt.xlabel(\"MET\")\n",
    "plt.ylabel(\"Number of Events\")\n",
    "plt.show()\n",
    "\n",
    "bin_edges = np.linspace(-ETA_LOW, ETA_UP,31)\n",
    "bin_centers = np.diff(bin_edges) / 2 + bin_edges[:-1]\n",
    "for _, dat in xdat.iterrows():\n",
    "    plt.bar(bin_centers, dat[\"ETA(j[1])\"],width=np.diff(bin_edges),label=f\"Mass={dat['MASS']} GeV, Coup= { dat['COUP']}\",alpha=0.25)\n",
    "plt.hlines(1, -ETA_LOW, ETA_UP,color=\"r\")\n",
    "plt.yscale(\"log\")\n",
    "plt.ylim(0.9,10*max(dat[\"ETA(j[1])\"]))\n",
    "plt.xlabel(\"ETA\")\n",
    "plt.ylabel(\"Number of Events\")\n",
    "plt.show()\n"
   ]
  },
  {
   "cell_type": "markdown",
   "metadata": {},
   "source": [
    "Remark: you can see all the slight difference between data points"
   ]
  }
 ],
 "metadata": {
  "kernelspec": {
   "display_name": "jammymod",
   "language": "python",
   "name": "python3"
  },
  "language_info": {
   "codemirror_mode": {
    "name": "ipython",
    "version": 3
   },
   "file_extension": ".py",
   "mimetype": "text/x-python",
   "name": "python",
   "nbconvert_exporter": "python",
   "pygments_lexer": "ipython3",
   "version": "3.11.3"
  }
 },
 "nbformat": 4,
 "nbformat_minor": 2
}
